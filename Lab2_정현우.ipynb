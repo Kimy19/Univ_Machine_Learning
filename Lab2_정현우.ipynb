{
 "cells": [
  {
   "cell_type": "code",
   "execution_count": 459,
   "metadata": {
    "collapsed": true,
    "pycharm": {
     "name": "#%%\n"
    }
   },
   "outputs": [],
   "source": [
    "import pandas as pd\n",
    "import numpy as np\n",
    "import seaborn as sns\n",
    "import matplotlib.pyplot as plt\n",
    "from sklearn.preprocessing import StandardScaler, MinMaxScaler, MaxAbsScaler, RobustScaler, Normalizer\n",
    "from sklearn.preprocessing import LabelEncoder, OrdinalEncoder\n",
    "from IPython.core.display_functions import display\n",
    "from sklearn.cluster import KMeans, DBSCAN, MeanShift\n",
    "from sklearn.mixture import GaussianMixture\n",
    "from pyclustering.cluster.clarans import clarans\n",
    "from sklearn.mixture import GaussianMixture\n",
    "from sklearn.metrics import silhouette_score\n",
    "from sklearn.decomposition import PCA\n",
    "import warnings\n",
    "warnings.filterwarnings('ignore')\n",
    "\n",
    "# Adjusting for Data Frame Output\n",
    "pd.set_option('display.max_rows', None)\n",
    "pd.set_option('display.max_columns', None)\n",
    "pd.set_option('display.max_colwidth', None)"
   ]
  },
  {
   "cell_type": "code",
   "execution_count": 460,
   "metadata": {
    "pycharm": {
     "name": "#%%\n"
    }
   },
   "outputs": [],
   "source": [
    "# Categorical feature need to change numeric\n",
    "# Encoder\n",
    "def object_encoder(dataframe, encoder, target_feature):\n",
    "    if encoder == \"LabelEncoder\" or encoder == \"LabelEncoder()\":\n",
    "        encoder = LabelEncoder()\n",
    "        dataframe[target_feature] = encoder.fit_transform(dataframe[target_feature])\n",
    "    elif encoder == \"OrdinalEncoder\" or encoder == \"OrdinalEncoder()\":\n",
    "        encoder = LabelEncoder()\n",
    "        dataframe[target_feature] = encoder.fit_transform(dataframe[target_feature])\n",
    "    elif encoder is None:\n",
    "        return dataframe\n",
    "    else:\n",
    "        return None\n",
    "\n",
    "    return dataframe"
   ]
  },
  {
   "cell_type": "code",
   "execution_count": 461,
   "outputs": [],
   "source": [
    "# Scaling\n",
    "def data_scaling(dataframe, scaling):\n",
    "    if scaling == \"StandardScaler\" or scaling == \"StandardScaler()\":\n",
    "        scaling = StandardScaler()\n",
    "    elif scaling == \"MinMaxScaler\" or scaling == \"MinMaxScaler()\":\n",
    "        scaling = MinMaxScaler()\n",
    "    elif scaling == \"MaxAbsScaler\" or scaling == \"MaxAbsScaler()\":\n",
    "        scaling = MaxAbsScaler()\n",
    "    elif scaling == \"RobustScaler\" or scaling == \"RobustScaler()\":\n",
    "        scaling = RobustScaler()\n",
    "    elif scaling == \"Normalizer\" or scaling == \"Normalizer()\":\n",
    "        scaling = Normalizer()\n",
    "    elif scaling is None:\n",
    "        return dataframe\n",
    "    else:\n",
    "        return None\n",
    "\n",
    "    dataframe = pd.DataFrame(scaling.fit_transform(dataframe), columns=dataframe.columns)\n",
    "    return dataframe"
   ],
   "metadata": {
    "collapsed": false,
    "pycharm": {
     "name": "#%%\n"
    }
   }
  },
  {
   "cell_type": "code",
   "execution_count": 462,
   "outputs": [],
   "source": [
    "# K-means\n",
    "def model_kmeans(dataset, k_list):\n",
    "    pca = PCA(n_components=2)  # Reduce feature for plotting\n",
    "    dataset = pd.DataFrame(pca.fit_transform(dataset))\n",
    "    clusters = k_list  # count of clustering\n",
    "    inits = [10, 20, 30]\n",
    "\n",
    "    f, axes = plt.subplots(len(k_list), len(inits))\n",
    "    f.set_size_inches((20, len(k_list) * 5))  # Set grid size\n",
    "    plt.subplots_adjust(wspace=0.3, hspace=0.3)  # Set grid margins\n",
    "    plt.title(\"K-means\")\n",
    "\n",
    "    for number_k, k in enumerate(clusters):\n",
    "        for number_init, init in enumerate(inits):\n",
    "            print(\"number_k: \"+str(number_k))\n",
    "            print(\"k: \"+str(k))\n",
    "            kmeans = KMeans(n_clusters=k, n_init=init, random_state=42).fit(dataset)\n",
    "            result = kmeans.predict(dataset)\n",
    "            for i in range(0, k):\n",
    "                axes[number_k, number_init].scatter(result.iloc[:, 0], result.iloc[:, 1], label=i)\n",
    "            axes[number_k, number_init].legend(loc='upper right')\n",
    "\n",
    "    return plt"
   ],
   "metadata": {
    "collapsed": false,
    "pycharm": {
     "name": "#%%\n"
    }
   }
  },
  {
   "cell_type": "code",
   "execution_count": 463,
   "outputs": [],
   "source": [
    "# read Dataset\n",
    "df_origin = pd.read_csv('dataset/housing_test.csv')"
   ],
   "metadata": {
    "collapsed": false,
    "pycharm": {
     "name": "#%%\n"
    }
   }
  },
  {
   "cell_type": "code",
   "execution_count": 464,
   "outputs": [],
   "source": [
    "# Check data information\n",
    "# df_origin.info()\n",
    "# df_origin.describe()"
   ],
   "metadata": {
    "collapsed": false,
    "pycharm": {
     "name": "#%%\n"
    }
   }
  },
  {
   "cell_type": "code",
   "execution_count": 465,
   "outputs": [
    {
     "data": {
      "text/plain": "      longitude  latitude  housing_median_age  total_rooms  total_bedrooms  \\\n0       -122.23     37.88                  41          880           129.0   \n701     -121.97     37.64                  32         1283           194.0   \n954     -121.92     37.64                  46         1280           209.0   \n1850    -124.17     41.80                  16         2739           480.0   \n8314    -118.32     33.35                  27         1675           521.0   \n\n      population  households  median_income  median_house_value  \\\n0            322         126         8.3252              452600   \n701          485         171         6.0574              431000   \n954          512         208         5.1406              315600   \n1850        1259         436         3.7557              109400   \n8314         744         331         2.1579              450000   \n\n     ocean_proximity  \n0           NEAR BAY  \n701        <1H OCEAN  \n954           INLAND  \n1850      NEAR OCEAN  \n8314          ISLAND  ",
      "text/html": "<div>\n<style scoped>\n    .dataframe tbody tr th:only-of-type {\n        vertical-align: middle;\n    }\n\n    .dataframe tbody tr th {\n        vertical-align: top;\n    }\n\n    .dataframe thead th {\n        text-align: right;\n    }\n</style>\n<table border=\"1\" class=\"dataframe\">\n  <thead>\n    <tr style=\"text-align: right;\">\n      <th></th>\n      <th>longitude</th>\n      <th>latitude</th>\n      <th>housing_median_age</th>\n      <th>total_rooms</th>\n      <th>total_bedrooms</th>\n      <th>population</th>\n      <th>households</th>\n      <th>median_income</th>\n      <th>median_house_value</th>\n      <th>ocean_proximity</th>\n    </tr>\n  </thead>\n  <tbody>\n    <tr>\n      <th>0</th>\n      <td>-122.23</td>\n      <td>37.88</td>\n      <td>41</td>\n      <td>880</td>\n      <td>129.0</td>\n      <td>322</td>\n      <td>126</td>\n      <td>8.3252</td>\n      <td>452600</td>\n      <td>NEAR BAY</td>\n    </tr>\n    <tr>\n      <th>701</th>\n      <td>-121.97</td>\n      <td>37.64</td>\n      <td>32</td>\n      <td>1283</td>\n      <td>194.0</td>\n      <td>485</td>\n      <td>171</td>\n      <td>6.0574</td>\n      <td>431000</td>\n      <td>&lt;1H OCEAN</td>\n    </tr>\n    <tr>\n      <th>954</th>\n      <td>-121.92</td>\n      <td>37.64</td>\n      <td>46</td>\n      <td>1280</td>\n      <td>209.0</td>\n      <td>512</td>\n      <td>208</td>\n      <td>5.1406</td>\n      <td>315600</td>\n      <td>INLAND</td>\n    </tr>\n    <tr>\n      <th>1850</th>\n      <td>-124.17</td>\n      <td>41.80</td>\n      <td>16</td>\n      <td>2739</td>\n      <td>480.0</td>\n      <td>1259</td>\n      <td>436</td>\n      <td>3.7557</td>\n      <td>109400</td>\n      <td>NEAR OCEAN</td>\n    </tr>\n    <tr>\n      <th>8314</th>\n      <td>-118.32</td>\n      <td>33.35</td>\n      <td>27</td>\n      <td>1675</td>\n      <td>521.0</td>\n      <td>744</td>\n      <td>331</td>\n      <td>2.1579</td>\n      <td>450000</td>\n      <td>ISLAND</td>\n    </tr>\n  </tbody>\n</table>\n</div>"
     },
     "metadata": {},
     "output_type": "display_data"
    }
   ],
   "source": [
    "# Copy dataset\n",
    "df = df_origin.copy()\n",
    "\n",
    "# Drop null data\n",
    "df.dropna(axis=0, inplace=True)\n",
    "\n",
    "display(df)"
   ],
   "metadata": {
    "collapsed": false,
    "pycharm": {
     "name": "#%%\n"
    }
   }
  },
  {
   "cell_type": "code",
   "execution_count": 466,
   "outputs": [
    {
     "data": {
      "text/plain": "   longitude  latitude  housing_median_age  total_rooms  total_bedrooms  \\\n0  -0.268298  0.081510            0.814663    -1.087735       -1.102357   \n1  -0.130980 -0.008226           -0.037891    -0.453721       -0.698904   \n2  -0.104573 -0.008226            1.288304    -0.458441       -0.605800   \n3  -1.292903  1.547202           -1.553543     1.836910        1.076287   \n4   1.796755 -1.612261           -0.511532     0.162987        1.330773   \n\n   population  households  median_income  ocean_proximity  \n0   -1.049169   -1.131015       1.551268         0.707107  \n1   -0.549711   -0.734631       0.464752        -1.414214  \n2   -0.466978   -0.408716       0.025508        -0.707107  \n3    1.821950    1.599628      -0.638006         1.414214  \n4    0.243907    0.674733      -1.403521         0.000000  ",
      "text/html": "<div>\n<style scoped>\n    .dataframe tbody tr th:only-of-type {\n        vertical-align: middle;\n    }\n\n    .dataframe tbody tr th {\n        vertical-align: top;\n    }\n\n    .dataframe thead th {\n        text-align: right;\n    }\n</style>\n<table border=\"1\" class=\"dataframe\">\n  <thead>\n    <tr style=\"text-align: right;\">\n      <th></th>\n      <th>longitude</th>\n      <th>latitude</th>\n      <th>housing_median_age</th>\n      <th>total_rooms</th>\n      <th>total_bedrooms</th>\n      <th>population</th>\n      <th>households</th>\n      <th>median_income</th>\n      <th>ocean_proximity</th>\n    </tr>\n  </thead>\n  <tbody>\n    <tr>\n      <th>0</th>\n      <td>-0.268298</td>\n      <td>0.081510</td>\n      <td>0.814663</td>\n      <td>-1.087735</td>\n      <td>-1.102357</td>\n      <td>-1.049169</td>\n      <td>-1.131015</td>\n      <td>1.551268</td>\n      <td>0.707107</td>\n    </tr>\n    <tr>\n      <th>1</th>\n      <td>-0.130980</td>\n      <td>-0.008226</td>\n      <td>-0.037891</td>\n      <td>-0.453721</td>\n      <td>-0.698904</td>\n      <td>-0.549711</td>\n      <td>-0.734631</td>\n      <td>0.464752</td>\n      <td>-1.414214</td>\n    </tr>\n    <tr>\n      <th>2</th>\n      <td>-0.104573</td>\n      <td>-0.008226</td>\n      <td>1.288304</td>\n      <td>-0.458441</td>\n      <td>-0.605800</td>\n      <td>-0.466978</td>\n      <td>-0.408716</td>\n      <td>0.025508</td>\n      <td>-0.707107</td>\n    </tr>\n    <tr>\n      <th>3</th>\n      <td>-1.292903</td>\n      <td>1.547202</td>\n      <td>-1.553543</td>\n      <td>1.836910</td>\n      <td>1.076287</td>\n      <td>1.821950</td>\n      <td>1.599628</td>\n      <td>-0.638006</td>\n      <td>1.414214</td>\n    </tr>\n    <tr>\n      <th>4</th>\n      <td>1.796755</td>\n      <td>-1.612261</td>\n      <td>-0.511532</td>\n      <td>0.162987</td>\n      <td>1.330773</td>\n      <td>0.243907</td>\n      <td>0.674733</td>\n      <td>-1.403521</td>\n      <td>0.000000</td>\n    </tr>\n  </tbody>\n</table>\n</div>"
     },
     "metadata": {},
     "output_type": "display_data"
    }
   ],
   "source": [
    "# testing\n",
    "df = object_encoder(df, 'OrdinalEncoder',\"ocean_proximity\")\n",
    "df = data_scaling(df, \"StandardScaler\")\n",
    "\n",
    "x = df.drop(columns=[\"median_house_value\"])\n",
    "\n",
    "display(x)"
   ],
   "metadata": {
    "collapsed": false,
    "pycharm": {
     "name": "#%%\n"
    }
   }
  },
  {
   "cell_type": "code",
   "execution_count": 467,
   "outputs": [],
   "source": [
    "# data = model_kmeans(x, [2, 3])\n",
    "# data.show()"
   ],
   "metadata": {
    "collapsed": false,
    "pycharm": {
     "name": "#%%\n"
    }
   }
  },
  {
   "cell_type": "code",
   "execution_count": 468,
   "outputs": [
    {
     "data": {
      "text/plain": "   longitude  latitude  housing_median_age  total_rooms  total_bedrooms  \\\n0  -0.268298  0.081510            0.814663    -1.087735       -1.102357   \n1  -0.130980 -0.008226           -0.037891    -0.453721       -0.698904   \n2  -0.104573 -0.008226            1.288304    -0.458441       -0.605800   \n3  -1.292903  1.547202           -1.553543     1.836910        1.076287   \n4   1.796755 -1.612261           -0.511532     0.162987        1.330773   \n\n   population  households  median_income  ocean_proximity  \n0   -1.049169   -1.131015       1.551268         0.707107  \n1   -0.549711   -0.734631       0.464752        -1.414214  \n2   -0.466978   -0.408716       0.025508        -0.707107  \n3    1.821950    1.599628      -0.638006         1.414214  \n4    0.243907    0.674733      -1.403521         0.000000  ",
      "text/html": "<div>\n<style scoped>\n    .dataframe tbody tr th:only-of-type {\n        vertical-align: middle;\n    }\n\n    .dataframe tbody tr th {\n        vertical-align: top;\n    }\n\n    .dataframe thead th {\n        text-align: right;\n    }\n</style>\n<table border=\"1\" class=\"dataframe\">\n  <thead>\n    <tr style=\"text-align: right;\">\n      <th></th>\n      <th>longitude</th>\n      <th>latitude</th>\n      <th>housing_median_age</th>\n      <th>total_rooms</th>\n      <th>total_bedrooms</th>\n      <th>population</th>\n      <th>households</th>\n      <th>median_income</th>\n      <th>ocean_proximity</th>\n    </tr>\n  </thead>\n  <tbody>\n    <tr>\n      <th>0</th>\n      <td>-0.268298</td>\n      <td>0.081510</td>\n      <td>0.814663</td>\n      <td>-1.087735</td>\n      <td>-1.102357</td>\n      <td>-1.049169</td>\n      <td>-1.131015</td>\n      <td>1.551268</td>\n      <td>0.707107</td>\n    </tr>\n    <tr>\n      <th>1</th>\n      <td>-0.130980</td>\n      <td>-0.008226</td>\n      <td>-0.037891</td>\n      <td>-0.453721</td>\n      <td>-0.698904</td>\n      <td>-0.549711</td>\n      <td>-0.734631</td>\n      <td>0.464752</td>\n      <td>-1.414214</td>\n    </tr>\n    <tr>\n      <th>2</th>\n      <td>-0.104573</td>\n      <td>-0.008226</td>\n      <td>1.288304</td>\n      <td>-0.458441</td>\n      <td>-0.605800</td>\n      <td>-0.466978</td>\n      <td>-0.408716</td>\n      <td>0.025508</td>\n      <td>-0.707107</td>\n    </tr>\n    <tr>\n      <th>3</th>\n      <td>-1.292903</td>\n      <td>1.547202</td>\n      <td>-1.553543</td>\n      <td>1.836910</td>\n      <td>1.076287</td>\n      <td>1.821950</td>\n      <td>1.599628</td>\n      <td>-0.638006</td>\n      <td>1.414214</td>\n    </tr>\n    <tr>\n      <th>4</th>\n      <td>1.796755</td>\n      <td>-1.612261</td>\n      <td>-0.511532</td>\n      <td>0.162987</td>\n      <td>1.330773</td>\n      <td>0.243907</td>\n      <td>0.674733</td>\n      <td>-1.403521</td>\n      <td>0.000000</td>\n    </tr>\n  </tbody>\n</table>\n</div>"
     },
     "metadata": {},
     "output_type": "display_data"
    },
    {
     "ename": "AttributeError",
     "evalue": "'NoneType' object has no attribute 'split'",
     "output_type": "error",
     "traceback": [
      "\u001B[0;31m---------------------------------------------------------------------------\u001B[0m",
      "\u001B[0;31mAttributeError\u001B[0m                            Traceback (most recent call last)",
      "Input \u001B[0;32mIn [468]\u001B[0m, in \u001B[0;36m<cell line: 3>\u001B[0;34m()\u001B[0m\n\u001B[1;32m      1\u001B[0m display(x)\n\u001B[1;32m      2\u001B[0m kmeans \u001B[38;5;241m=\u001B[39m KMeans(n_clusters\u001B[38;5;241m=\u001B[39m\u001B[38;5;241m2\u001B[39m, n_init\u001B[38;5;241m=\u001B[39m\u001B[38;5;241m10\u001B[39m, random_state\u001B[38;5;241m=\u001B[39m\u001B[38;5;241m42\u001B[39m)\n\u001B[0;32m----> 3\u001B[0m result \u001B[38;5;241m=\u001B[39m \u001B[43mkmeans\u001B[49m\u001B[38;5;241;43m.\u001B[39;49m\u001B[43mfit_predict\u001B[49m\u001B[43m(\u001B[49m\u001B[43mx\u001B[49m\u001B[43m)\u001B[49m\n\u001B[1;32m      5\u001B[0m display(result)\n",
      "File \u001B[0;32m~/opt/anaconda3/envs/MachineLearning/lib/python3.10/site-packages/sklearn/cluster/_kmeans.py:996\u001B[0m, in \u001B[0;36m_BaseKMeans.fit_predict\u001B[0;34m(self, X, y, sample_weight)\u001B[0m\n\u001B[1;32m    973\u001B[0m \u001B[38;5;28;01mdef\u001B[39;00m \u001B[38;5;21mfit_predict\u001B[39m(\u001B[38;5;28mself\u001B[39m, X, y\u001B[38;5;241m=\u001B[39m\u001B[38;5;28;01mNone\u001B[39;00m, sample_weight\u001B[38;5;241m=\u001B[39m\u001B[38;5;28;01mNone\u001B[39;00m):\n\u001B[1;32m    974\u001B[0m     \u001B[38;5;124;03m\"\"\"Compute cluster centers and predict cluster index for each sample.\u001B[39;00m\n\u001B[1;32m    975\u001B[0m \n\u001B[1;32m    976\u001B[0m \u001B[38;5;124;03m    Convenience method; equivalent to calling fit(X) followed by\u001B[39;00m\n\u001B[0;32m   (...)\u001B[0m\n\u001B[1;32m    994\u001B[0m \u001B[38;5;124;03m        Index of the cluster each sample belongs to.\u001B[39;00m\n\u001B[1;32m    995\u001B[0m \u001B[38;5;124;03m    \"\"\"\u001B[39;00m\n\u001B[0;32m--> 996\u001B[0m     \u001B[38;5;28;01mreturn\u001B[39;00m \u001B[38;5;28;43mself\u001B[39;49m\u001B[38;5;241;43m.\u001B[39;49m\u001B[43mfit\u001B[49m\u001B[43m(\u001B[49m\u001B[43mX\u001B[49m\u001B[43m,\u001B[49m\u001B[43m \u001B[49m\u001B[43msample_weight\u001B[49m\u001B[38;5;241;43m=\u001B[39;49m\u001B[43msample_weight\u001B[49m\u001B[43m)\u001B[49m\u001B[38;5;241m.\u001B[39mlabels_\n",
      "File \u001B[0;32m~/opt/anaconda3/envs/MachineLearning/lib/python3.10/site-packages/sklearn/cluster/_kmeans.py:1402\u001B[0m, in \u001B[0;36mKMeans.fit\u001B[0;34m(self, X, y, sample_weight)\u001B[0m\n\u001B[1;32m   1400\u001B[0m \u001B[38;5;28;01melse\u001B[39;00m:\n\u001B[1;32m   1401\u001B[0m     kmeans_single \u001B[38;5;241m=\u001B[39m _kmeans_single_lloyd\n\u001B[0;32m-> 1402\u001B[0m     \u001B[38;5;28;43mself\u001B[39;49m\u001B[38;5;241;43m.\u001B[39;49m\u001B[43m_check_mkl_vcomp\u001B[49m\u001B[43m(\u001B[49m\u001B[43mX\u001B[49m\u001B[43m,\u001B[49m\u001B[43m \u001B[49m\u001B[43mX\u001B[49m\u001B[38;5;241;43m.\u001B[39;49m\u001B[43mshape\u001B[49m\u001B[43m[\u001B[49m\u001B[38;5;241;43m0\u001B[39;49m\u001B[43m]\u001B[49m\u001B[43m)\u001B[49m\n\u001B[1;32m   1404\u001B[0m best_inertia, best_labels \u001B[38;5;241m=\u001B[39m \u001B[38;5;28;01mNone\u001B[39;00m, \u001B[38;5;28;01mNone\u001B[39;00m\n\u001B[1;32m   1406\u001B[0m \u001B[38;5;28;01mfor\u001B[39;00m i \u001B[38;5;129;01min\u001B[39;00m \u001B[38;5;28mrange\u001B[39m(\u001B[38;5;28mself\u001B[39m\u001B[38;5;241m.\u001B[39m_n_init):\n\u001B[1;32m   1407\u001B[0m     \u001B[38;5;66;03m# Initialize centers\u001B[39;00m\n",
      "File \u001B[0;32m~/opt/anaconda3/envs/MachineLearning/lib/python3.10/site-packages/sklearn/cluster/_kmeans.py:874\u001B[0m, in \u001B[0;36m_BaseKMeans._check_mkl_vcomp\u001B[0;34m(self, X, n_samples)\u001B[0m\n\u001B[1;32m    872\u001B[0m n_active_threads \u001B[38;5;241m=\u001B[39m \u001B[38;5;28mint\u001B[39m(np\u001B[38;5;241m.\u001B[39mceil(n_samples \u001B[38;5;241m/\u001B[39m CHUNK_SIZE))\n\u001B[1;32m    873\u001B[0m \u001B[38;5;28;01mif\u001B[39;00m n_active_threads \u001B[38;5;241m<\u001B[39m \u001B[38;5;28mself\u001B[39m\u001B[38;5;241m.\u001B[39m_n_threads:\n\u001B[0;32m--> 874\u001B[0m     modules \u001B[38;5;241m=\u001B[39m \u001B[43mthreadpool_info\u001B[49m\u001B[43m(\u001B[49m\u001B[43m)\u001B[49m\n\u001B[1;32m    875\u001B[0m     has_vcomp \u001B[38;5;241m=\u001B[39m \u001B[38;5;124m\"\u001B[39m\u001B[38;5;124mvcomp\u001B[39m\u001B[38;5;124m\"\u001B[39m \u001B[38;5;129;01min\u001B[39;00m [module[\u001B[38;5;124m\"\u001B[39m\u001B[38;5;124mprefix\u001B[39m\u001B[38;5;124m\"\u001B[39m] \u001B[38;5;28;01mfor\u001B[39;00m module \u001B[38;5;129;01min\u001B[39;00m modules]\n\u001B[1;32m    876\u001B[0m     has_mkl \u001B[38;5;241m=\u001B[39m (\u001B[38;5;124m\"\u001B[39m\u001B[38;5;124mmkl\u001B[39m\u001B[38;5;124m\"\u001B[39m, \u001B[38;5;124m\"\u001B[39m\u001B[38;5;124mintel\u001B[39m\u001B[38;5;124m\"\u001B[39m) \u001B[38;5;129;01min\u001B[39;00m [\n\u001B[1;32m    877\u001B[0m         (module[\u001B[38;5;124m\"\u001B[39m\u001B[38;5;124minternal_api\u001B[39m\u001B[38;5;124m\"\u001B[39m], module\u001B[38;5;241m.\u001B[39mget(\u001B[38;5;124m\"\u001B[39m\u001B[38;5;124mthreading_layer\u001B[39m\u001B[38;5;124m\"\u001B[39m, \u001B[38;5;28;01mNone\u001B[39;00m))\n\u001B[1;32m    878\u001B[0m         \u001B[38;5;28;01mfor\u001B[39;00m module \u001B[38;5;129;01min\u001B[39;00m modules\n\u001B[1;32m    879\u001B[0m     ]\n",
      "File \u001B[0;32m~/opt/anaconda3/envs/MachineLearning/lib/python3.10/site-packages/sklearn/utils/fixes.py:162\u001B[0m, in \u001B[0;36mthreadpool_info\u001B[0;34m()\u001B[0m\n\u001B[1;32m    160\u001B[0m     \u001B[38;5;28;01mreturn\u001B[39;00m controller\u001B[38;5;241m.\u001B[39minfo()\n\u001B[1;32m    161\u001B[0m \u001B[38;5;28;01melse\u001B[39;00m:\n\u001B[0;32m--> 162\u001B[0m     \u001B[38;5;28;01mreturn\u001B[39;00m \u001B[43mthreadpoolctl\u001B[49m\u001B[38;5;241;43m.\u001B[39;49m\u001B[43mthreadpool_info\u001B[49m\u001B[43m(\u001B[49m\u001B[43m)\u001B[49m\n",
      "File \u001B[0;32m~/opt/anaconda3/envs/MachineLearning/lib/python3.10/site-packages/threadpoolctl.py:124\u001B[0m, in \u001B[0;36mthreadpool_info\u001B[0;34m()\u001B[0m\n\u001B[1;32m    107\u001B[0m \u001B[38;5;129m@_format_docstring\u001B[39m(USER_APIS\u001B[38;5;241m=\u001B[39m\u001B[38;5;28mlist\u001B[39m(_ALL_USER_APIS),\n\u001B[1;32m    108\u001B[0m                    INTERNAL_APIS\u001B[38;5;241m=\u001B[39m_ALL_INTERNAL_APIS)\n\u001B[1;32m    109\u001B[0m \u001B[38;5;28;01mdef\u001B[39;00m \u001B[38;5;21mthreadpool_info\u001B[39m():\n\u001B[1;32m    110\u001B[0m     \u001B[38;5;124;03m\"\"\"Return the maximal number of threads for each detected library.\u001B[39;00m\n\u001B[1;32m    111\u001B[0m \n\u001B[1;32m    112\u001B[0m \u001B[38;5;124;03m    Return a list with all the supported modules that have been found. Each\u001B[39;00m\n\u001B[0;32m   (...)\u001B[0m\n\u001B[1;32m    122\u001B[0m \u001B[38;5;124;03m    In addition, each module may contain internal_api specific entries.\u001B[39;00m\n\u001B[1;32m    123\u001B[0m \u001B[38;5;124;03m    \"\"\"\u001B[39;00m\n\u001B[0;32m--> 124\u001B[0m     \u001B[38;5;28;01mreturn\u001B[39;00m \u001B[43m_ThreadpoolInfo\u001B[49m\u001B[43m(\u001B[49m\u001B[43muser_api\u001B[49m\u001B[38;5;241;43m=\u001B[39;49m\u001B[43m_ALL_USER_APIS\u001B[49m\u001B[43m)\u001B[49m\u001B[38;5;241m.\u001B[39mtodicts()\n",
      "File \u001B[0;32m~/opt/anaconda3/envs/MachineLearning/lib/python3.10/site-packages/threadpoolctl.py:340\u001B[0m, in \u001B[0;36m_ThreadpoolInfo.__init__\u001B[0;34m(self, user_api, prefixes, modules)\u001B[0m\n\u001B[1;32m    337\u001B[0m     \u001B[38;5;28mself\u001B[39m\u001B[38;5;241m.\u001B[39muser_api \u001B[38;5;241m=\u001B[39m [] \u001B[38;5;28;01mif\u001B[39;00m user_api \u001B[38;5;129;01mis\u001B[39;00m \u001B[38;5;28;01mNone\u001B[39;00m \u001B[38;5;28;01melse\u001B[39;00m user_api\n\u001B[1;32m    339\u001B[0m     \u001B[38;5;28mself\u001B[39m\u001B[38;5;241m.\u001B[39mmodules \u001B[38;5;241m=\u001B[39m []\n\u001B[0;32m--> 340\u001B[0m     \u001B[38;5;28;43mself\u001B[39;49m\u001B[38;5;241;43m.\u001B[39;49m\u001B[43m_load_modules\u001B[49m\u001B[43m(\u001B[49m\u001B[43m)\u001B[49m\n\u001B[1;32m    341\u001B[0m     \u001B[38;5;28mself\u001B[39m\u001B[38;5;241m.\u001B[39m_warn_if_incompatible_openmp()\n\u001B[1;32m    342\u001B[0m \u001B[38;5;28;01melse\u001B[39;00m:\n",
      "File \u001B[0;32m~/opt/anaconda3/envs/MachineLearning/lib/python3.10/site-packages/threadpoolctl.py:371\u001B[0m, in \u001B[0;36m_ThreadpoolInfo._load_modules\u001B[0;34m(self)\u001B[0m\n\u001B[1;32m    369\u001B[0m \u001B[38;5;124;03m\"\"\"Loop through loaded libraries and store supported ones\"\"\"\u001B[39;00m\n\u001B[1;32m    370\u001B[0m \u001B[38;5;28;01mif\u001B[39;00m sys\u001B[38;5;241m.\u001B[39mplatform \u001B[38;5;241m==\u001B[39m \u001B[38;5;124m\"\u001B[39m\u001B[38;5;124mdarwin\u001B[39m\u001B[38;5;124m\"\u001B[39m:\n\u001B[0;32m--> 371\u001B[0m     \u001B[38;5;28;43mself\u001B[39;49m\u001B[38;5;241;43m.\u001B[39;49m\u001B[43m_find_modules_with_dyld\u001B[49m\u001B[43m(\u001B[49m\u001B[43m)\u001B[49m\n\u001B[1;32m    372\u001B[0m \u001B[38;5;28;01melif\u001B[39;00m sys\u001B[38;5;241m.\u001B[39mplatform \u001B[38;5;241m==\u001B[39m \u001B[38;5;124m\"\u001B[39m\u001B[38;5;124mwin32\u001B[39m\u001B[38;5;124m\"\u001B[39m:\n\u001B[1;32m    373\u001B[0m     \u001B[38;5;28mself\u001B[39m\u001B[38;5;241m.\u001B[39m_find_modules_with_enum_process_module_ex()\n",
      "File \u001B[0;32m~/opt/anaconda3/envs/MachineLearning/lib/python3.10/site-packages/threadpoolctl.py:428\u001B[0m, in \u001B[0;36m_ThreadpoolInfo._find_modules_with_dyld\u001B[0;34m(self)\u001B[0m\n\u001B[1;32m    425\u001B[0m filepath \u001B[38;5;241m=\u001B[39m filepath\u001B[38;5;241m.\u001B[39mdecode(\u001B[38;5;124m\"\u001B[39m\u001B[38;5;124mutf-8\u001B[39m\u001B[38;5;124m\"\u001B[39m)\n\u001B[1;32m    427\u001B[0m \u001B[38;5;66;03m# Store the module if it is supported and selected\u001B[39;00m\n\u001B[0;32m--> 428\u001B[0m \u001B[38;5;28;43mself\u001B[39;49m\u001B[38;5;241;43m.\u001B[39;49m\u001B[43m_make_module_from_path\u001B[49m\u001B[43m(\u001B[49m\u001B[43mfilepath\u001B[49m\u001B[43m)\u001B[49m\n",
      "File \u001B[0;32m~/opt/anaconda3/envs/MachineLearning/lib/python3.10/site-packages/threadpoolctl.py:515\u001B[0m, in \u001B[0;36m_ThreadpoolInfo._make_module_from_path\u001B[0;34m(self, filepath)\u001B[0m\n\u001B[1;32m    513\u001B[0m \u001B[38;5;28;01mif\u001B[39;00m prefix \u001B[38;5;129;01min\u001B[39;00m \u001B[38;5;28mself\u001B[39m\u001B[38;5;241m.\u001B[39mprefixes \u001B[38;5;129;01mor\u001B[39;00m user_api \u001B[38;5;129;01min\u001B[39;00m \u001B[38;5;28mself\u001B[39m\u001B[38;5;241m.\u001B[39muser_api:\n\u001B[1;32m    514\u001B[0m     module_class \u001B[38;5;241m=\u001B[39m \u001B[38;5;28mglobals\u001B[39m()[module_class]\n\u001B[0;32m--> 515\u001B[0m     module \u001B[38;5;241m=\u001B[39m \u001B[43mmodule_class\u001B[49m\u001B[43m(\u001B[49m\u001B[43mfilepath\u001B[49m\u001B[43m,\u001B[49m\u001B[43m \u001B[49m\u001B[43mprefix\u001B[49m\u001B[43m,\u001B[49m\u001B[43m \u001B[49m\u001B[43muser_api\u001B[49m\u001B[43m,\u001B[49m\u001B[43m \u001B[49m\u001B[43minternal_api\u001B[49m\u001B[43m)\u001B[49m\n\u001B[1;32m    516\u001B[0m     \u001B[38;5;28mself\u001B[39m\u001B[38;5;241m.\u001B[39mmodules\u001B[38;5;241m.\u001B[39mappend(module)\n",
      "File \u001B[0;32m~/opt/anaconda3/envs/MachineLearning/lib/python3.10/site-packages/threadpoolctl.py:606\u001B[0m, in \u001B[0;36m_Module.__init__\u001B[0;34m(self, filepath, prefix, user_api, internal_api)\u001B[0m\n\u001B[1;32m    604\u001B[0m \u001B[38;5;28mself\u001B[39m\u001B[38;5;241m.\u001B[39minternal_api \u001B[38;5;241m=\u001B[39m internal_api\n\u001B[1;32m    605\u001B[0m \u001B[38;5;28mself\u001B[39m\u001B[38;5;241m.\u001B[39m_dynlib \u001B[38;5;241m=\u001B[39m ctypes\u001B[38;5;241m.\u001B[39mCDLL(filepath, mode\u001B[38;5;241m=\u001B[39m_RTLD_NOLOAD)\n\u001B[0;32m--> 606\u001B[0m \u001B[38;5;28mself\u001B[39m\u001B[38;5;241m.\u001B[39mversion \u001B[38;5;241m=\u001B[39m \u001B[38;5;28;43mself\u001B[39;49m\u001B[38;5;241;43m.\u001B[39;49m\u001B[43mget_version\u001B[49m\u001B[43m(\u001B[49m\u001B[43m)\u001B[49m\n\u001B[1;32m    607\u001B[0m \u001B[38;5;28mself\u001B[39m\u001B[38;5;241m.\u001B[39mnum_threads \u001B[38;5;241m=\u001B[39m \u001B[38;5;28mself\u001B[39m\u001B[38;5;241m.\u001B[39mget_num_threads()\n\u001B[1;32m    608\u001B[0m \u001B[38;5;28mself\u001B[39m\u001B[38;5;241m.\u001B[39m_get_extra_info()\n",
      "File \u001B[0;32m~/opt/anaconda3/envs/MachineLearning/lib/python3.10/site-packages/threadpoolctl.py:646\u001B[0m, in \u001B[0;36m_OpenBLASModule.get_version\u001B[0;34m(self)\u001B[0m\n\u001B[1;32m    643\u001B[0m get_config \u001B[38;5;241m=\u001B[39m \u001B[38;5;28mgetattr\u001B[39m(\u001B[38;5;28mself\u001B[39m\u001B[38;5;241m.\u001B[39m_dynlib, \u001B[38;5;124m\"\u001B[39m\u001B[38;5;124mopenblas_get_config\u001B[39m\u001B[38;5;124m\"\u001B[39m,\n\u001B[1;32m    644\u001B[0m                      \u001B[38;5;28;01mlambda\u001B[39;00m: \u001B[38;5;28;01mNone\u001B[39;00m)\n\u001B[1;32m    645\u001B[0m get_config\u001B[38;5;241m.\u001B[39mrestype \u001B[38;5;241m=\u001B[39m ctypes\u001B[38;5;241m.\u001B[39mc_char_p\n\u001B[0;32m--> 646\u001B[0m config \u001B[38;5;241m=\u001B[39m \u001B[43mget_config\u001B[49m\u001B[43m(\u001B[49m\u001B[43m)\u001B[49m\u001B[38;5;241;43m.\u001B[39;49m\u001B[43msplit\u001B[49m()\n\u001B[1;32m    647\u001B[0m \u001B[38;5;28;01mif\u001B[39;00m config[\u001B[38;5;241m0\u001B[39m] \u001B[38;5;241m==\u001B[39m \u001B[38;5;124mb\u001B[39m\u001B[38;5;124m\"\u001B[39m\u001B[38;5;124mOpenBLAS\u001B[39m\u001B[38;5;124m\"\u001B[39m:\n\u001B[1;32m    648\u001B[0m     \u001B[38;5;28;01mreturn\u001B[39;00m config[\u001B[38;5;241m1\u001B[39m]\u001B[38;5;241m.\u001B[39mdecode(\u001B[38;5;124m\"\u001B[39m\u001B[38;5;124mutf-8\u001B[39m\u001B[38;5;124m\"\u001B[39m)\n",
      "\u001B[0;31mAttributeError\u001B[0m: 'NoneType' object has no attribute 'split'"
     ]
    }
   ],
   "source": [
    "display(x)\n",
    "kmeans = KMeans(n_clusters=2, n_init=10, random_state=42)\n",
    "result = kmeans.fit_predict(x)\n",
    "\n",
    "display(result)"
   ],
   "metadata": {
    "collapsed": false,
    "pycharm": {
     "name": "#%%\n"
    }
   }
  },
  {
   "cell_type": "code",
   "execution_count": null,
   "outputs": [],
   "source": [],
   "metadata": {
    "collapsed": false,
    "pycharm": {
     "name": "#%%\n"
    }
   }
  }
 ],
 "metadata": {
  "kernelspec": {
   "display_name": "Python 3 (ipykernel)",
   "language": "python",
   "name": "python3"
  },
  "language_info": {
   "codemirror_mode": {
    "name": "ipython",
    "version": 3
   },
   "file_extension": ".py",
   "mimetype": "text/x-python",
   "name": "python",
   "nbconvert_exporter": "python",
   "pygments_lexer": "ipython3",
   "version": "3.9.12"
  }
 },
 "nbformat": 4,
 "nbformat_minor": 1
}