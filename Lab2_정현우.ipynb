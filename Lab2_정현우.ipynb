{
 "cells": [
  {
   "cell_type": "code",
   "execution_count": 13,
   "metadata": {
    "collapsed": true,
    "pycharm": {
     "name": "#%%\n"
    }
   },
   "outputs": [],
   "source": [
    "import numpy as np\n",
    "import pandas as pd\n",
    "import seaborn as sns\n",
    "import matplotlib.pyplot as plt\n",
    "from sklearn.tree import DecisionTreeClassifier\n",
    "from sklearn.linear_model import LogisticRegression\n",
    "from sklearn.svm import SVC\n",
    "from sklearn.preprocessing import StandardScaler, MinMaxScaler, MaxAbsScaler, RobustScaler, Normalizer\n",
    "from sklearn.preprocessing import LabelEncoder, OrdinalEncoder\n",
    "from sklearn.model_selection import GridSearchCV, train_test_split\n",
    "from IPython.core.display_functions import display\n",
    "from sklearn.cluster import KMeans"
   ]
  },
  {
   "cell_type": "code",
   "execution_count": 14,
   "metadata": {
    "pycharm": {
     "name": "#%%\n"
    }
   },
   "outputs": [],
   "source": [
    "# read Dataset\n",
    "df_origin = pd.read_csv('dataset/housing.csv')"
   ]
  },
  {
   "cell_type": "code",
   "execution_count": 15,
   "metadata": {
    "pycharm": {
     "name": "#%%\n"
    }
   },
   "outputs": [
    {
     "name": "stdout",
     "output_type": "stream",
     "text": [
      "<class 'pandas.core.frame.DataFrame'>\n",
      "RangeIndex: 20640 entries, 0 to 20639\n",
      "Data columns (total 10 columns):\n",
      " #   Column              Non-Null Count  Dtype  \n",
      "---  ------              --------------  -----  \n",
      " 0   longitude           20640 non-null  float64\n",
      " 1   latitude            20640 non-null  float64\n",
      " 2   housing_median_age  20640 non-null  float64\n",
      " 3   total_rooms         20640 non-null  float64\n",
      " 4   total_bedrooms      20433 non-null  float64\n",
      " 5   population          20640 non-null  float64\n",
      " 6   households          20640 non-null  float64\n",
      " 7   median_income       20640 non-null  float64\n",
      " 8   median_house_value  20640 non-null  float64\n",
      " 9   ocean_proximity     20640 non-null  object \n",
      "dtypes: float64(9), object(1)\n",
      "memory usage: 1.6+ MB\n"
     ]
    }
   ],
   "source": [
    "# Check data information\n",
    "df_origin.info()\n",
    "df_origin.describe()\n",
    "\n",
    "# Copy dataset\n",
    "df = df_origin.copy()"
   ]
  },
  {
   "cell_type": "code",
   "execution_count": 16,
   "metadata": {
    "pycharm": {
     "name": "#%%\n"
    }
   },
   "outputs": [],
   "source": [
    "# ocean_proximity is object column, we need to change numeric\n",
    "def object_encoder(dataframe, encoder, target_col):\n",
    "    if encoder == \"LabelEncoder\" or encoder == \"LabelEncoder()\":\n",
    "        encoder = LabelEncoder()\n",
    "        dataframe.loc[:, target_col] = encoder.fit_transform(dataframe.loc[:, target_col])\n",
    "    elif encoder == \"OrdinalEncoder\" or encoder == \"OrdinalEncoder()\":\n",
    "        encoder = OrdinalEncoder()\n",
    "        dataframe[[target_col]] = encoder.fit_transform(dataframe[[target_col]])\n",
    "    elif encoder is None:\n",
    "        return dataframe\n",
    "    else:\n",
    "        dataframe = None\n",
    "\n",
    "    return dataframe"
   ]
  },
  {
   "cell_type": "code",
   "execution_count": 25,
   "outputs": [],
   "source": [
    "def data_scaling(dataframe, scaling):\n",
    "    if scaling == \"StandardScaler\" or scaling == \"StandardScaler()\":\n",
    "        scaling = StandardScaler()\n",
    "    elif scaling == \"MinMaxScaler\" or scaling == \"MinMaxScaler()\":\n",
    "        scaling = MinMaxScaler()\n",
    "    elif scaling == \"MaxAbsScaler\" or scaling == \"MaxAbsScaler()\":\n",
    "        scaling = MaxAbsScaler()\n",
    "    elif scaling == \"RobustScaler\" or scaling == \"RobustScaler()\":\n",
    "        scaling = RobustScaler()\n",
    "    elif scaling == \"Normalizer\" or scaling == \"Normalizer()\":\n",
    "        scaling = Normalizer()\n",
    "    elif scaling is None:\n",
    "        return dataframe\n",
    "    else:\n",
    "        return None\n",
    "\n",
    "    dataframe = pd.DataFrame(scaling.fit_transform(dataframe), columns=dataframe.columns)\n",
    "    return dataframe"
   ],
   "metadata": {
    "collapsed": false,
    "pycharm": {
     "name": "#%%\n"
    }
   }
  },
  {
   "cell_type": "code",
   "execution_count": null,
   "outputs": [],
   "source": [
    "def applied_modeling(dataframe, model):\n"
   ],
   "metadata": {
    "collapsed": false,
    "pycharm": {
     "name": "#%%\n"
    }
   }
  },
  {
   "cell_type": "code",
   "execution_count": 26,
   "outputs": [
    {
     "data": {
      "text/plain": "       longitude  latitude  housing_median_age  total_rooms  total_bedrooms  \\\n0      -1.327835  1.052548            0.982143    -0.804819       -0.970325   \n1      -1.322844  1.043185           -0.607019     2.045890        1.348276   \n2      -1.332827  1.038503            1.856182    -0.535746       -0.825561   \n3      -1.337818  1.038503            1.856182    -0.624215       -0.718768   \n4      -1.337818  1.038503            1.856182    -0.462404       -0.611974   \n...          ...       ...                 ...          ...             ...   \n20635  -0.758826  1.801647           -0.289187    -0.444985       -0.388895   \n20636  -0.818722  1.806329           -0.845393    -0.888704       -0.920488   \n20637  -0.823713  1.778237           -0.924851    -0.174995       -0.125472   \n20638  -0.873626  1.778237           -0.845393    -0.355600       -0.305834   \n20639  -0.833696  1.750146           -1.004309     0.068408        0.185416   \n\n       population  households  median_income  median_house_value  \\\n0       -0.974429   -0.977033       2.344766            2.129631   \n1        0.861439    1.669961       2.332238            1.314156   \n2       -0.820777   -0.843637       1.782699            1.258693   \n3       -0.766028   -0.733781       0.932968            1.165100   \n4       -0.759847   -0.629157      -0.012881            1.172900   \n...           ...         ...            ...                 ...   \n20635   -0.512592   -0.443449      -1.216128           -1.115804   \n20636   -0.944405   -1.008420      -0.691593           -1.124470   \n20637   -0.369537   -0.174042      -1.142593           -0.992746   \n20638   -0.604429   -0.393753      -1.054583           -1.058608   \n20639   -0.033977    0.079672      -0.780129           -1.017878   \n\n       ocean_proximity  \n0             1.291089  \n1             1.291089  \n2             1.291089  \n3             1.291089  \n4             1.291089  \n...                ...  \n20635        -0.116739  \n20636        -0.116739  \n20637        -0.116739  \n20638        -0.116739  \n20639        -0.116739  \n\n[20640 rows x 10 columns]",
      "text/html": "<div>\n<style scoped>\n    .dataframe tbody tr th:only-of-type {\n        vertical-align: middle;\n    }\n\n    .dataframe tbody tr th {\n        vertical-align: top;\n    }\n\n    .dataframe thead th {\n        text-align: right;\n    }\n</style>\n<table border=\"1\" class=\"dataframe\">\n  <thead>\n    <tr style=\"text-align: right;\">\n      <th></th>\n      <th>longitude</th>\n      <th>latitude</th>\n      <th>housing_median_age</th>\n      <th>total_rooms</th>\n      <th>total_bedrooms</th>\n      <th>population</th>\n      <th>households</th>\n      <th>median_income</th>\n      <th>median_house_value</th>\n      <th>ocean_proximity</th>\n    </tr>\n  </thead>\n  <tbody>\n    <tr>\n      <th>0</th>\n      <td>-1.327835</td>\n      <td>1.052548</td>\n      <td>0.982143</td>\n      <td>-0.804819</td>\n      <td>-0.970325</td>\n      <td>-0.974429</td>\n      <td>-0.977033</td>\n      <td>2.344766</td>\n      <td>2.129631</td>\n      <td>1.291089</td>\n    </tr>\n    <tr>\n      <th>1</th>\n      <td>-1.322844</td>\n      <td>1.043185</td>\n      <td>-0.607019</td>\n      <td>2.045890</td>\n      <td>1.348276</td>\n      <td>0.861439</td>\n      <td>1.669961</td>\n      <td>2.332238</td>\n      <td>1.314156</td>\n      <td>1.291089</td>\n    </tr>\n    <tr>\n      <th>2</th>\n      <td>-1.332827</td>\n      <td>1.038503</td>\n      <td>1.856182</td>\n      <td>-0.535746</td>\n      <td>-0.825561</td>\n      <td>-0.820777</td>\n      <td>-0.843637</td>\n      <td>1.782699</td>\n      <td>1.258693</td>\n      <td>1.291089</td>\n    </tr>\n    <tr>\n      <th>3</th>\n      <td>-1.337818</td>\n      <td>1.038503</td>\n      <td>1.856182</td>\n      <td>-0.624215</td>\n      <td>-0.718768</td>\n      <td>-0.766028</td>\n      <td>-0.733781</td>\n      <td>0.932968</td>\n      <td>1.165100</td>\n      <td>1.291089</td>\n    </tr>\n    <tr>\n      <th>4</th>\n      <td>-1.337818</td>\n      <td>1.038503</td>\n      <td>1.856182</td>\n      <td>-0.462404</td>\n      <td>-0.611974</td>\n      <td>-0.759847</td>\n      <td>-0.629157</td>\n      <td>-0.012881</td>\n      <td>1.172900</td>\n      <td>1.291089</td>\n    </tr>\n    <tr>\n      <th>...</th>\n      <td>...</td>\n      <td>...</td>\n      <td>...</td>\n      <td>...</td>\n      <td>...</td>\n      <td>...</td>\n      <td>...</td>\n      <td>...</td>\n      <td>...</td>\n      <td>...</td>\n    </tr>\n    <tr>\n      <th>20635</th>\n      <td>-0.758826</td>\n      <td>1.801647</td>\n      <td>-0.289187</td>\n      <td>-0.444985</td>\n      <td>-0.388895</td>\n      <td>-0.512592</td>\n      <td>-0.443449</td>\n      <td>-1.216128</td>\n      <td>-1.115804</td>\n      <td>-0.116739</td>\n    </tr>\n    <tr>\n      <th>20636</th>\n      <td>-0.818722</td>\n      <td>1.806329</td>\n      <td>-0.845393</td>\n      <td>-0.888704</td>\n      <td>-0.920488</td>\n      <td>-0.944405</td>\n      <td>-1.008420</td>\n      <td>-0.691593</td>\n      <td>-1.124470</td>\n      <td>-0.116739</td>\n    </tr>\n    <tr>\n      <th>20637</th>\n      <td>-0.823713</td>\n      <td>1.778237</td>\n      <td>-0.924851</td>\n      <td>-0.174995</td>\n      <td>-0.125472</td>\n      <td>-0.369537</td>\n      <td>-0.174042</td>\n      <td>-1.142593</td>\n      <td>-0.992746</td>\n      <td>-0.116739</td>\n    </tr>\n    <tr>\n      <th>20638</th>\n      <td>-0.873626</td>\n      <td>1.778237</td>\n      <td>-0.845393</td>\n      <td>-0.355600</td>\n      <td>-0.305834</td>\n      <td>-0.604429</td>\n      <td>-0.393753</td>\n      <td>-1.054583</td>\n      <td>-1.058608</td>\n      <td>-0.116739</td>\n    </tr>\n    <tr>\n      <th>20639</th>\n      <td>-0.833696</td>\n      <td>1.750146</td>\n      <td>-1.004309</td>\n      <td>0.068408</td>\n      <td>0.185416</td>\n      <td>-0.033977</td>\n      <td>0.079672</td>\n      <td>-0.780129</td>\n      <td>-1.017878</td>\n      <td>-0.116739</td>\n    </tr>\n  </tbody>\n</table>\n<p>20640 rows × 10 columns</p>\n</div>"
     },
     "metadata": {},
     "output_type": "display_data"
    }
   ],
   "source": [
    "# testing\n",
    "df = object_encoder(df, 'LabelEncoder', 'ocean_proximity')\n",
    "display(data_scaling(df, \"StandardScaler\"))"
   ],
   "metadata": {
    "collapsed": false,
    "pycharm": {
     "name": "#%%\n"
    }
   }
  },
  {
   "cell_type": "code",
   "execution_count": null,
   "outputs": [],
   "source": [],
   "metadata": {
    "collapsed": false,
    "pycharm": {
     "name": "#%%\n"
    }
   }
  }
 ],
 "metadata": {
  "kernelspec": {
   "display_name": "Python 3 (ipykernel)",
   "language": "python",
   "name": "python3"
  },
  "language_info": {
   "codemirror_mode": {
    "name": "ipython",
    "version": 3
   },
   "file_extension": ".py",
   "mimetype": "text/x-python",
   "name": "python",
   "nbconvert_exporter": "python",
   "pygments_lexer": "ipython3",
   "version": "3.9.12"
  }
 },
 "nbformat": 4,
 "nbformat_minor": 1
}