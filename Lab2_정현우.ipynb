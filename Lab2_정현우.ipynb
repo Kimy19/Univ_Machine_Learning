{
 "cells": [
  {
   "cell_type": "code",
   "execution_count": 1,
   "metadata": {
    "collapsed": true,
    "pycharm": {
     "name": "#%%\n"
    }
   },
   "outputs": [],
   "source": [
    "import pandas as pd\n",
    "import numpy as np\n",
    "import seaborn as sns\n",
    "import matplotlib.pyplot as plt\n",
    "from sklearn.preprocessing import StandardScaler, MinMaxScaler, MaxAbsScaler, RobustScaler, Normalizer\n",
    "from sklearn.preprocessing import LabelEncoder, OrdinalEncoder\n",
    "from IPython.core.display_functions import display\n",
    "from sklearn.cluster import KMeans, DBSCAN, MeanShift\n",
    "from sklearn.mixture import GaussianMixture\n",
    "from sklearn.metrics import silhouette_score\n",
    "from sklearn.decomposition import PCA\n",
    "import warnings\n",
    "warnings.filterwarnings('ignore')\n",
    "\n",
    "# # Adjusting for Data Frame Output\n",
    "# pd.set_option('display.max_rows', None)\n",
    "# pd.set_option('display.max_columns', None)\n",
    "# pd.set_option('display.max_colwidth', None)"
   ]
  },
  {
   "cell_type": "code",
   "execution_count": 2,
   "metadata": {
    "pycharm": {
     "name": "#%%\n"
    }
   },
   "outputs": [],
   "source": [
    "# Categorical feature need to change numeric\n",
    "# Encoder\n",
    "def object_encoder(dataframe, encoder, target_feature):\n",
    "    if encoder == \"LabelEncoder\" or encoder == \"LabelEncoder()\":\n",
    "        encoder = LabelEncoder()\n",
    "        dataframe[target_feature] = encoder.fit_transform(dataframe[target_feature])\n",
    "    elif encoder == \"OrdinalEncoder\" or encoder == \"OrdinalEncoder()\":\n",
    "        encoder = LabelEncoder()\n",
    "        dataframe[target_feature] = encoder.fit_transform(dataframe[target_feature])\n",
    "    elif encoder is None:\n",
    "        return dataframe\n",
    "    else:\n",
    "        return None\n",
    "\n",
    "    return dataframe"
   ]
  },
  {
   "cell_type": "code",
   "execution_count": 3,
   "outputs": [],
   "source": [
    "# Scaling\n",
    "def data_scaling(dataframe, scaling):\n",
    "    if scaling == \"StandardScaler\" or scaling == \"StandardScaler()\":\n",
    "        scaling = StandardScaler()\n",
    "    elif scaling == \"MinMaxScaler\" or scaling == \"MinMaxScaler()\":\n",
    "        scaling = MinMaxScaler()\n",
    "    elif scaling == \"MaxAbsScaler\" or scaling == \"MaxAbsScaler()\":\n",
    "        scaling = MaxAbsScaler()\n",
    "    elif scaling == \"RobustScaler\" or scaling == \"RobustScaler()\":\n",
    "        scaling = RobustScaler()\n",
    "    elif scaling == \"Normalizer\" or scaling == \"Normalizer()\":\n",
    "        scaling = Normalizer()\n",
    "    elif scaling is None:\n",
    "        return dataframe\n",
    "    else:\n",
    "        return None\n",
    "\n",
    "    dataframe = pd.DataFrame(scaling.fit_transform(dataframe), columns=dataframe.columns)\n",
    "    return dataframe"
   ],
   "metadata": {
    "collapsed": false,
    "pycharm": {
     "name": "#%%\n"
    }
   }
  },
  {
   "cell_type": "code",
   "execution_count": 4,
   "outputs": [],
   "source": [
    "# K-means\n",
    "def model_kmeans(dataset, k_list):\n",
    "    pca = PCA(n_components=2)  # Reduce feature for plotting\n",
    "    dataset = pd.DataFrame(pca.fit_transform(dataset))\n",
    "    clusters = k_list  # count of clustering\n",
    "    inits = [10, 20, 30]\n",
    "\n",
    "    f, axes = plt.subplots(len(k_list), len(inits))\n",
    "    f.set_size_inches((20, len(k_list) * 5))  # Set grid size\n",
    "    plt.subplots_adjust(wspace=0.3, hspace=0.3)  # Set grid margins\n",
    "\n",
    "    for number_k, k in enumerate(clusters):\n",
    "        for number_init, init in enumerate(inits):\n",
    "            kmeans = KMeans(n_clusters=k, n_init=init, random_state=42).fit(dataset)\n",
    "            result = kmeans.predict(dataset)\n",
    "            axes[number_k, number_init].set_title(\"K-means [cluster = \"+str(k)+\", init = \"+str(init)+\"]\")\n",
    "            for i in range(0, k):\n",
    "                axes[number_k, number_init].scatter(x=dataset.iloc[:,0],y=dataset.iloc[:,1],c=result)\n",
    "    return plt"
   ],
   "metadata": {
    "collapsed": false,
    "pycharm": {
     "name": "#%%\n"
    }
   }
  },
  {
   "cell_type": "code",
   "execution_count": 5,
   "outputs": [],
   "source": [
    "# read Dataset\n",
    "df_origin = pd.read_csv('dataset/housing.csv')"
   ],
   "metadata": {
    "collapsed": false,
    "pycharm": {
     "name": "#%%\n"
    }
   }
  },
  {
   "cell_type": "code",
   "execution_count": 6,
   "outputs": [],
   "source": [
    "# Check data information\n",
    "# df_origin.info()\n",
    "# df_origin.describe()"
   ],
   "metadata": {
    "collapsed": false,
    "pycharm": {
     "name": "#%%\n"
    }
   }
  },
  {
   "cell_type": "code",
   "execution_count": 7,
   "outputs": [
    {
     "data": {
      "text/plain": "       longitude  latitude  housing_median_age  total_rooms  total_bedrooms  \\\n0        -122.23     37.88                41.0        880.0           129.0   \n1        -122.22     37.86                21.0       7099.0          1106.0   \n2        -122.24     37.85                52.0       1467.0           190.0   \n3        -122.25     37.85                52.0       1274.0           235.0   \n4        -122.25     37.85                52.0       1627.0           280.0   \n...          ...       ...                 ...          ...             ...   \n20635    -121.09     39.48                25.0       1665.0           374.0   \n20636    -121.21     39.49                18.0        697.0           150.0   \n20637    -121.22     39.43                17.0       2254.0           485.0   \n20638    -121.32     39.43                18.0       1860.0           409.0   \n20639    -121.24     39.37                16.0       2785.0           616.0   \n\n       population  households  median_income  median_house_value  \\\n0           322.0       126.0         8.3252            452600.0   \n1          2401.0      1138.0         8.3014            358500.0   \n2           496.0       177.0         7.2574            352100.0   \n3           558.0       219.0         5.6431            341300.0   \n4           565.0       259.0         3.8462            342200.0   \n...           ...         ...            ...                 ...   \n20635       845.0       330.0         1.5603             78100.0   \n20636       356.0       114.0         2.5568             77100.0   \n20637      1007.0       433.0         1.7000             92300.0   \n20638       741.0       349.0         1.8672             84700.0   \n20639      1387.0       530.0         2.3886             89400.0   \n\n      ocean_proximity  \n0            NEAR BAY  \n1            NEAR BAY  \n2            NEAR BAY  \n3            NEAR BAY  \n4            NEAR BAY  \n...               ...  \n20635          INLAND  \n20636          INLAND  \n20637          INLAND  \n20638          INLAND  \n20639          INLAND  \n\n[20433 rows x 10 columns]",
      "text/html": "<div>\n<style scoped>\n    .dataframe tbody tr th:only-of-type {\n        vertical-align: middle;\n    }\n\n    .dataframe tbody tr th {\n        vertical-align: top;\n    }\n\n    .dataframe thead th {\n        text-align: right;\n    }\n</style>\n<table border=\"1\" class=\"dataframe\">\n  <thead>\n    <tr style=\"text-align: right;\">\n      <th></th>\n      <th>longitude</th>\n      <th>latitude</th>\n      <th>housing_median_age</th>\n      <th>total_rooms</th>\n      <th>total_bedrooms</th>\n      <th>population</th>\n      <th>households</th>\n      <th>median_income</th>\n      <th>median_house_value</th>\n      <th>ocean_proximity</th>\n    </tr>\n  </thead>\n  <tbody>\n    <tr>\n      <th>0</th>\n      <td>-122.23</td>\n      <td>37.88</td>\n      <td>41.0</td>\n      <td>880.0</td>\n      <td>129.0</td>\n      <td>322.0</td>\n      <td>126.0</td>\n      <td>8.3252</td>\n      <td>452600.0</td>\n      <td>NEAR BAY</td>\n    </tr>\n    <tr>\n      <th>1</th>\n      <td>-122.22</td>\n      <td>37.86</td>\n      <td>21.0</td>\n      <td>7099.0</td>\n      <td>1106.0</td>\n      <td>2401.0</td>\n      <td>1138.0</td>\n      <td>8.3014</td>\n      <td>358500.0</td>\n      <td>NEAR BAY</td>\n    </tr>\n    <tr>\n      <th>2</th>\n      <td>-122.24</td>\n      <td>37.85</td>\n      <td>52.0</td>\n      <td>1467.0</td>\n      <td>190.0</td>\n      <td>496.0</td>\n      <td>177.0</td>\n      <td>7.2574</td>\n      <td>352100.0</td>\n      <td>NEAR BAY</td>\n    </tr>\n    <tr>\n      <th>3</th>\n      <td>-122.25</td>\n      <td>37.85</td>\n      <td>52.0</td>\n      <td>1274.0</td>\n      <td>235.0</td>\n      <td>558.0</td>\n      <td>219.0</td>\n      <td>5.6431</td>\n      <td>341300.0</td>\n      <td>NEAR BAY</td>\n    </tr>\n    <tr>\n      <th>4</th>\n      <td>-122.25</td>\n      <td>37.85</td>\n      <td>52.0</td>\n      <td>1627.0</td>\n      <td>280.0</td>\n      <td>565.0</td>\n      <td>259.0</td>\n      <td>3.8462</td>\n      <td>342200.0</td>\n      <td>NEAR BAY</td>\n    </tr>\n    <tr>\n      <th>...</th>\n      <td>...</td>\n      <td>...</td>\n      <td>...</td>\n      <td>...</td>\n      <td>...</td>\n      <td>...</td>\n      <td>...</td>\n      <td>...</td>\n      <td>...</td>\n      <td>...</td>\n    </tr>\n    <tr>\n      <th>20635</th>\n      <td>-121.09</td>\n      <td>39.48</td>\n      <td>25.0</td>\n      <td>1665.0</td>\n      <td>374.0</td>\n      <td>845.0</td>\n      <td>330.0</td>\n      <td>1.5603</td>\n      <td>78100.0</td>\n      <td>INLAND</td>\n    </tr>\n    <tr>\n      <th>20636</th>\n      <td>-121.21</td>\n      <td>39.49</td>\n      <td>18.0</td>\n      <td>697.0</td>\n      <td>150.0</td>\n      <td>356.0</td>\n      <td>114.0</td>\n      <td>2.5568</td>\n      <td>77100.0</td>\n      <td>INLAND</td>\n    </tr>\n    <tr>\n      <th>20637</th>\n      <td>-121.22</td>\n      <td>39.43</td>\n      <td>17.0</td>\n      <td>2254.0</td>\n      <td>485.0</td>\n      <td>1007.0</td>\n      <td>433.0</td>\n      <td>1.7000</td>\n      <td>92300.0</td>\n      <td>INLAND</td>\n    </tr>\n    <tr>\n      <th>20638</th>\n      <td>-121.32</td>\n      <td>39.43</td>\n      <td>18.0</td>\n      <td>1860.0</td>\n      <td>409.0</td>\n      <td>741.0</td>\n      <td>349.0</td>\n      <td>1.8672</td>\n      <td>84700.0</td>\n      <td>INLAND</td>\n    </tr>\n    <tr>\n      <th>20639</th>\n      <td>-121.24</td>\n      <td>39.37</td>\n      <td>16.0</td>\n      <td>2785.0</td>\n      <td>616.0</td>\n      <td>1387.0</td>\n      <td>530.0</td>\n      <td>2.3886</td>\n      <td>89400.0</td>\n      <td>INLAND</td>\n    </tr>\n  </tbody>\n</table>\n<p>20433 rows × 10 columns</p>\n</div>"
     },
     "metadata": {},
     "output_type": "display_data"
    }
   ],
   "source": [
    "# Copy dataset\n",
    "df = df_origin.copy()\n",
    "\n",
    "# Drop null data\n",
    "df.dropna(axis=0, inplace=True)\n",
    "\n",
    "display(df)"
   ],
   "metadata": {
    "collapsed": false,
    "pycharm": {
     "name": "#%%\n"
    }
   }
  },
  {
   "cell_type": "code",
   "execution_count": 8,
   "outputs": [
    {
     "data": {
      "text/plain": "       longitude  latitude  housing_median_age  total_rooms  total_bedrooms  \\\n0      -1.327314  1.051717            0.982163    -0.803813       -0.970325   \n1      -1.322323  1.042355           -0.606210     2.042130        1.348276   \n2      -1.332305  1.037674            1.855769    -0.535189       -0.825561   \n3      -1.337296  1.037674            1.855769    -0.623510       -0.718768   \n4      -1.337296  1.037674            1.855769    -0.461970       -0.611974   \n...          ...       ...                 ...          ...             ...   \n20428  -0.758318  1.800677           -0.288535    -0.444580       -0.388895   \n20429  -0.818212  1.805358           -0.844466    -0.887557       -0.920488   \n20430  -0.823203  1.777272           -0.923885    -0.175042       -0.125472   \n20431  -0.873115  1.777272           -0.844466    -0.355344       -0.305834   \n20432  -0.833186  1.749186           -1.003304     0.067955        0.185416   \n\n       population  households  median_income  ocean_proximity  \n0       -0.973320   -0.976833       2.345163         1.291351  \n1        0.861339    1.670373       2.332632         1.291351  \n2       -0.819769   -0.843427       1.782939         1.291351  \n3       -0.765056   -0.733562       0.932970         1.291351  \n4       -0.758879   -0.628930      -0.013143         1.291351  \n...           ...         ...            ...              ...  \n20428   -0.511787   -0.443207      -1.216727        -0.117001  \n20429   -0.943315   -1.008223      -0.692044        -0.117001  \n20430   -0.368826   -0.173778      -1.143171        -0.117001  \n20431   -0.603564   -0.393506      -1.055136        -0.117001  \n20432   -0.033487    0.079956      -0.780606        -0.117001  \n\n[20433 rows x 9 columns]",
      "text/html": "<div>\n<style scoped>\n    .dataframe tbody tr th:only-of-type {\n        vertical-align: middle;\n    }\n\n    .dataframe tbody tr th {\n        vertical-align: top;\n    }\n\n    .dataframe thead th {\n        text-align: right;\n    }\n</style>\n<table border=\"1\" class=\"dataframe\">\n  <thead>\n    <tr style=\"text-align: right;\">\n      <th></th>\n      <th>longitude</th>\n      <th>latitude</th>\n      <th>housing_median_age</th>\n      <th>total_rooms</th>\n      <th>total_bedrooms</th>\n      <th>population</th>\n      <th>households</th>\n      <th>median_income</th>\n      <th>ocean_proximity</th>\n    </tr>\n  </thead>\n  <tbody>\n    <tr>\n      <th>0</th>\n      <td>-1.327314</td>\n      <td>1.051717</td>\n      <td>0.982163</td>\n      <td>-0.803813</td>\n      <td>-0.970325</td>\n      <td>-0.973320</td>\n      <td>-0.976833</td>\n      <td>2.345163</td>\n      <td>1.291351</td>\n    </tr>\n    <tr>\n      <th>1</th>\n      <td>-1.322323</td>\n      <td>1.042355</td>\n      <td>-0.606210</td>\n      <td>2.042130</td>\n      <td>1.348276</td>\n      <td>0.861339</td>\n      <td>1.670373</td>\n      <td>2.332632</td>\n      <td>1.291351</td>\n    </tr>\n    <tr>\n      <th>2</th>\n      <td>-1.332305</td>\n      <td>1.037674</td>\n      <td>1.855769</td>\n      <td>-0.535189</td>\n      <td>-0.825561</td>\n      <td>-0.819769</td>\n      <td>-0.843427</td>\n      <td>1.782939</td>\n      <td>1.291351</td>\n    </tr>\n    <tr>\n      <th>3</th>\n      <td>-1.337296</td>\n      <td>1.037674</td>\n      <td>1.855769</td>\n      <td>-0.623510</td>\n      <td>-0.718768</td>\n      <td>-0.765056</td>\n      <td>-0.733562</td>\n      <td>0.932970</td>\n      <td>1.291351</td>\n    </tr>\n    <tr>\n      <th>4</th>\n      <td>-1.337296</td>\n      <td>1.037674</td>\n      <td>1.855769</td>\n      <td>-0.461970</td>\n      <td>-0.611974</td>\n      <td>-0.758879</td>\n      <td>-0.628930</td>\n      <td>-0.013143</td>\n      <td>1.291351</td>\n    </tr>\n    <tr>\n      <th>...</th>\n      <td>...</td>\n      <td>...</td>\n      <td>...</td>\n      <td>...</td>\n      <td>...</td>\n      <td>...</td>\n      <td>...</td>\n      <td>...</td>\n      <td>...</td>\n    </tr>\n    <tr>\n      <th>20428</th>\n      <td>-0.758318</td>\n      <td>1.800677</td>\n      <td>-0.288535</td>\n      <td>-0.444580</td>\n      <td>-0.388895</td>\n      <td>-0.511787</td>\n      <td>-0.443207</td>\n      <td>-1.216727</td>\n      <td>-0.117001</td>\n    </tr>\n    <tr>\n      <th>20429</th>\n      <td>-0.818212</td>\n      <td>1.805358</td>\n      <td>-0.844466</td>\n      <td>-0.887557</td>\n      <td>-0.920488</td>\n      <td>-0.943315</td>\n      <td>-1.008223</td>\n      <td>-0.692044</td>\n      <td>-0.117001</td>\n    </tr>\n    <tr>\n      <th>20430</th>\n      <td>-0.823203</td>\n      <td>1.777272</td>\n      <td>-0.923885</td>\n      <td>-0.175042</td>\n      <td>-0.125472</td>\n      <td>-0.368826</td>\n      <td>-0.173778</td>\n      <td>-1.143171</td>\n      <td>-0.117001</td>\n    </tr>\n    <tr>\n      <th>20431</th>\n      <td>-0.873115</td>\n      <td>1.777272</td>\n      <td>-0.844466</td>\n      <td>-0.355344</td>\n      <td>-0.305834</td>\n      <td>-0.603564</td>\n      <td>-0.393506</td>\n      <td>-1.055136</td>\n      <td>-0.117001</td>\n    </tr>\n    <tr>\n      <th>20432</th>\n      <td>-0.833186</td>\n      <td>1.749186</td>\n      <td>-1.003304</td>\n      <td>0.067955</td>\n      <td>0.185416</td>\n      <td>-0.033487</td>\n      <td>0.079956</td>\n      <td>-0.780606</td>\n      <td>-0.117001</td>\n    </tr>\n  </tbody>\n</table>\n<p>20433 rows × 9 columns</p>\n</div>"
     },
     "metadata": {},
     "output_type": "display_data"
    }
   ],
   "source": [
    "# testing\n",
    "df = object_encoder(df, 'OrdinalEncoder',\"ocean_proximity\")\n",
    "df = data_scaling(df, \"StandardScaler\")\n",
    "\n",
    "x = df.drop(columns=[\"median_house_value\"])\n",
    "\n",
    "display(x)"
   ],
   "metadata": {
    "collapsed": false,
    "pycharm": {
     "name": "#%%\n"
    }
   }
  },
  {
   "cell_type": "code",
   "execution_count": null,
   "outputs": [],
   "source": [
    "data = model_kmeans(x, [2, 3])\n",
    "data.show()"
   ],
   "metadata": {
    "collapsed": false,
    "pycharm": {
     "name": "#%%\n",
     "is_executing": true
    }
   }
  },
  {
   "cell_type": "code",
   "execution_count": null,
   "outputs": [],
   "source": [],
   "metadata": {
    "collapsed": false,
    "pycharm": {
     "name": "#%%\n",
     "is_executing": true
    }
   }
  }
 ],
 "metadata": {
  "kernelspec": {
   "display_name": "Python 3 (ipykernel)",
   "language": "python",
   "name": "python3"
  },
  "language_info": {
   "codemirror_mode": {
    "name": "ipython",
    "version": 3
   },
   "file_extension": ".py",
   "mimetype": "text/x-python",
   "name": "python",
   "nbconvert_exporter": "python",
   "pygments_lexer": "ipython3",
   "version": "3.9.12"
  }
 },
 "nbformat": 4,
 "nbformat_minor": 1
}